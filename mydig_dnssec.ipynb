{
 "cells": [
  {
   "cell_type": "code",
   "execution_count": 68,
   "id": "8e547713",
   "metadata": {},
   "outputs": [],
   "source": [
    "import sys\n",
    "import dns.message\n",
    "import dns.query\n",
    "import time\n",
    "import os\n",
    "import datetime"
   ]
  },
  {
   "cell_type": "code",
   "execution_count": 64,
   "id": "355cce96",
   "metadata": {},
   "outputs": [],
   "source": [
    "class MetaData:\n",
    "    def __init__(self,time,size):\n",
    "        self.time = time\n",
    "        self.size = size"
   ]
  },
  {
   "cell_type": "code",
   "execution_count": 25,
   "id": "8d7a0a2f",
   "metadata": {},
   "outputs": [],
   "source": [
    "root_servers = [\n",
    "    '198.41.0.4',\n",
    "    '199.9.14.201',\n",
    "    '192.33.4.12',\n",
    "    '199.7.91.13',\n",
    "    '192.203.230.10',\n",
    "    '192.5.5.241',\n",
    "    '192.112.36.4',\n",
    "    '198.97.190.53',\n",
    "    '192.36.148.17',\n",
    "    '192.58.128.30',\n",
    "    '193.0.14.129',\n",
    "    '199.7.83.42',\n",
    "    '202.12.27.33'\n",
    "]"
   ]
  },
  {
   "cell_type": "code",
   "execution_count": 26,
   "id": "ce453c35",
   "metadata": {},
   "outputs": [],
   "source": [
    "def resolve_from_server(hostname,rdtype,server):\n",
    "    query = dns.message.make_query(hostname, rdtype, want_dnssec=True)\n",
    "    try:\n",
    "        response = dns.query.udp(query, server, timeout=5)\n",
    "        return response\n",
    "    except Exception as e:\n",
    "        raise e"
   ]
  },
  {
   "cell_type": "code",
   "execution_count": 27,
   "id": "0b953069",
   "metadata": {},
   "outputs": [],
   "source": [
    "def verify_zone(name,dnskey_response_child,authority_section):\n",
    "    rrsig = None\n",
    "    ds = None\n",
    "    name = None\n",
    "    for rr in authority_section:\n",
    "        if rr.rdtype==rdtypeToDNSPythonMap['DS']:\n",
    "            ds = rr\n",
    "            break\n",
    "    name = authority_section[0].name\n",
    "    if ds is None:\n",
    "        print(\"Zone not DNS sec enabled!\")\n",
    "        sys.exit()\n",
    "    algo = ds[0].digest_type\n",
    "    #print(\"ALGOOOO\",algo)\n",
    "    if (ds[0].digest_type == 1):\n",
    "        algo = \"sha1\"\n",
    "    elif (ds[0].digest_type == 2):\n",
    "        algo = \"sha256\"\n",
    "    if ds is None:\n",
    "        print(\"DNSSEC not enabled in zone!\")\n",
    "        sys.exit()\n",
    "    dnskey = get_dns_key(dnskey_response_child)\n",
    "    child_hash = dns.dnssec.make_ds(name,dnskey,algo)\n",
    "    #print(\"Equal hash? \",child_hash==ds[0])\n",
    "    return child_hash==ds[0]\n",
    "    "
   ]
  },
  {
   "cell_type": "code",
   "execution_count": 28,
   "id": "0f4c119e",
   "metadata": {},
   "outputs": [],
   "source": [
    "def is_ds_record_available(section):\n",
    "    for rrset in section:\n",
    "        if rrset.rdtype==rdtypeToDNSPythonMap['DS']:\n",
    "            return rrset\n",
    "    return None"
   ]
  },
  {
   "cell_type": "code",
   "execution_count": 79,
   "id": "dc342571",
   "metadata": {},
   "outputs": [],
   "source": [
    "def verify_records(response,rdtype,name):\n",
    "    #print(\"Verifying records for type \",rdtype)\n",
    "    return verify_rrset(response,rdtype,name)"
   ]
  },
  {
   "cell_type": "code",
   "execution_count": 41,
   "id": "0d7aaa6c",
   "metadata": {},
   "outputs": [],
   "source": [
    "def resolve_iteratively(hostname,response,response_parent,rdtype):\n",
    "    if len(response.answer)>0:\n",
    "        records = []\n",
    "        for r in response.answer:\n",
    "            noRecords = True\n",
    "            for rr in r:\n",
    "                if(rr.rdtype==rdtypeToDNSPythonMap[rdtype]):\n",
    "                    dns_key = resolve_from_server(response.answer[0].name,'DNSKEY',response_parent.additional[0][0].to_text())\n",
    "                    if(verify_records(response,rdtype,response.answer[0].name) and verify_zone(response.answer[0].name,dns_key,response_parent.authority)):\n",
    "                        noARecord = False\n",
    "                        records.append(rr.to_text())\n",
    "                    else:\n",
    "                        print(\"Records or zone could not be verified!\")\n",
    "                        sys.exit()\n",
    "            if(noRecords):\n",
    "                for rr in r:\n",
    "                    cnames = []\n",
    "                    cname_records = []\n",
    "                    if(rr.rdtype==rdtypeToDNSPythonMap['CNAME']):\n",
    "                        cnames.append(rr.to_text())\n",
    "                for cname in cnames:\n",
    "                    records_from_cname = main(cname,rdtype)\n",
    "                    if(len(records_from_cname)>0):\n",
    "                        records = records_from_cname\n",
    "            return records\n",
    "    elif len(response.additional)>0:\n",
    "        if is_ds_record_available(response.authority) is not None:\n",
    "            ips = []\n",
    "            for r in response.additional:\n",
    "                for rr in r:\n",
    "                    if(rr.rdtype==rdtypeToDNSPythonMap['A']):\n",
    "                        ips.append(rr.address)\n",
    "            for ip in ips:\n",
    "                dnskey_response = resolve_from_server(str(response.authority[0].name),'DNSKEY',ip)\n",
    "                if(verify_records(response,'A',response.authority[0].name)):\n",
    "                    if(verify_zone(response.authority[0].name,dnskey_response,response.authority)):\n",
    "                        response_subdomain = resolve_from_server(hostname,rdtype,ip)\n",
    "                        if response_subdomain is not None:\n",
    "                            return resolve_iteratively(hostname,response_subdomain,response,rdtype)\n",
    "                        else:\n",
    "                            continue\n",
    "                    else:\n",
    "                        print(\"Zone could not be verified!\")\n",
    "                        sys.exit()\n",
    "        else:\n",
    "            print(\"DNSSEC not enabled on zone!\")\n",
    "            sys.exit()\n",
    "    elif len(response.authority)>0:\n",
    "        if is_ds_record_available(response.authority) is not None: \n",
    "            nss = []\n",
    "            for r in response.authority:\n",
    "                for rr in r:\n",
    "                    if rr.rdtype==rdtypeToDNSPythonMap['NS']:\n",
    "                        nss.append(rr.target)\n",
    "            for ns in nss:\n",
    "                ips = main(ns,'A')\n",
    "                if(len(ips)>0):\n",
    "                    final_ips = []\n",
    "                    for ip in ips:\n",
    "                        if(verify_records(response,'NS',response.authority[0].name)):\n",
    "                            if(verify_zone(response.authority[0].name,dnskey_response,response.authority)):\n",
    "                                dnskey_response = resolve_from_server(str(response.authority[0].name),'DNSKEY',ip)\n",
    "                                response2 = resolve_from_server(hostname,rdtype,ip)\n",
    "                                final_ips = resolve_iteratively(hostname,response2,response,rdtype)\n",
    "                                if final_ips is not None:\n",
    "                                    return final_ips\n",
    "                                else:\n",
    "                                    continue\n",
    "                            else:\n",
    "                                print(\"DNS Zone could not be verified!\")\n",
    "                                sys.exit()\n",
    "                        else:\n",
    "                            print(\"DNS records could not be verified!\")\n",
    "                            sys.exit()\n",
    "                else:\n",
    "                    print(\"No nameserver found!\")\n",
    "                    sys.exit()\n",
    "        else:\n",
    "            print(\"DNSSEC not enabled on zone!\")\n",
    "            sys.exit()\n",
    "    else:\n",
    "        raise Exception "
   ]
  },
  {
   "cell_type": "code",
   "execution_count": 70,
   "id": "5960ec8c",
   "metadata": {},
   "outputs": [],
   "source": [
    "def print_like_dig(hostname,rdtype,records,metadata):\n",
    "    print(';;QUESTION SECTION:')\n",
    "    print(hostname + \"     \" + \"IN    \" + rdtype)\n",
    "    print(\"\\n\")\n",
    "    print(';;ANSWER SECTION:')\n",
    "    for record in records:\n",
    "        print(hostname + \"     \" + \"IN    \" + rdtype + \"    \" + record)\n",
    "    print(\"\\n\")\n",
    "    print('Query time: ' + str(int(metadata.time)) + ' sec')\n",
    "    print('WHEN:', datetime.datetime.now().strftime(\"%a %b %d %H:%M:%S %Y\"))\n",
    "    print('MSG SIZE rcvd: ', metadata.size, '\\n')"
   ]
  },
  {
   "cell_type": "code",
   "execution_count": 71,
   "id": "11ff8011",
   "metadata": {},
   "outputs": [],
   "source": [
    "def main(hostname,rdtype):\n",
    "    start = time.time()\n",
    "    for server in root_servers:\n",
    "        dnskey_response = resolve_from_server('.','DNSKEY',server)\n",
    "        if(verify_dns_key(dnskey_response) and verify_root(dnskey_response)):\n",
    "            response = resolve_from_server(hostname,rdtype,server)\n",
    "            response_final = resolve_iteratively(hostname,response,response,rdtype)\n",
    "            if(response_final):\n",
    "                total_time = time.time()\n",
    "                size = sys.getsizeof(response_final)\n",
    "                print_like_dig(hostname,rdtype,response_final,MetaData(total_time,size))\n",
    "                return total_time\n",
    "    \n",
    "    return None"
   ]
  },
  {
   "cell_type": "code",
   "execution_count": 72,
   "id": "4706ddad",
   "metadata": {},
   "outputs": [],
   "source": [
    "rdtypeToDNSPythonMap = {\n",
    "    'RRSIG': dns.rdatatype.RRSIG,\n",
    "    'DNSKEY': dns.rdatatype.DNSKEY,\n",
    "    'A': dns.rdatatype.A,\n",
    "    'NS': dns.rdatatype.NS,\n",
    "    'MX': dns.rdatatype.MX,\n",
    "    'CNAME': dns.rdatatype.CNAME,\n",
    "    'DS': dns.rdatatype.DS\n",
    "}"
   ]
  },
  {
   "cell_type": "code",
   "execution_count": 73,
   "id": "1412ed12",
   "metadata": {},
   "outputs": [],
   "source": [
    "def verify_dns_key(response):\n",
    "    try:\n",
    "        dns.dnssec.validate(response.answer[0],response.answer[1],{response_dns_key.answer[0].name:response.answer[0]})\n",
    "    except dns.dnssec.ValidationFailure:\n",
    "        print(\"DNS keys could not be verified!\")\n",
    "        raise e\n",
    "    finally:\n",
    "        #print(\"WORKED!\")\n",
    "        return True"
   ]
  },
  {
   "cell_type": "code",
   "execution_count": 74,
   "id": "908cf936",
   "metadata": {},
   "outputs": [],
   "source": [
    "def verify_rrset(response,rdtype,zsk):\n",
    "    try:\n",
    "        dns.dnssec.validate(response.answer[0],response.answer[1],{response.answer[0].name:response.answer[0]})\n",
    "    except dns.dnssec.ValidationFailure:\n",
    "        print(\"DNSSEC Verification failed!\")\n",
    "        raise e\n",
    "    finally:\n",
    "        #print(\"WORKED!\")\n",
    "        return True  "
   ]
  },
  {
   "cell_type": "code",
   "execution_count": 75,
   "id": "d11561f3",
   "metadata": {},
   "outputs": [],
   "source": [
    "def get_pub_key(response):\n",
    "    dnskey = None\n",
    "    for rrset in response.answer:\n",
    "        for r in rrset:\n",
    "            if r.rdtype==dns.rdatatype.DNSKEY and r.flags == 257:\n",
    "                dnskey = r\n",
    "                return dnskey\n",
    "                break\n",
    "    return None"
   ]
  },
  {
   "cell_type": "code",
   "execution_count": 76,
   "id": "25066685",
   "metadata": {},
   "outputs": [],
   "source": [
    "def get_dns_key(response):\n",
    "    dnskey = None\n",
    "    for rrset in response.answer:\n",
    "        for r in rrset:\n",
    "            if r.rdtype==dns.rdatatype.DNSKEY and r.flags == 257:\n",
    "                dnskey = r\n",
    "                return dnskey\n",
    "                break\n",
    "    return None\n"
   ]
  },
  {
   "cell_type": "code",
   "execution_count": 77,
   "id": "89228580",
   "metadata": {},
   "outputs": [],
   "source": [
    "root_anchors = ['19036 8 2 49aac11d7b6f6446702e54a1607371607a1a41855200fd2ce1cdde32f24e8fb5', '20326 8 2 e06d44b80b8f1d39a95c0b0d7c65d08458e880409bbc683457104237c7f8ec8d']\n",
    "\n",
    "def verify_root(dnskey_response):\n",
    "    dnskey = get_dns_key(dnskey_response)\n",
    "    for root_anchor in root_anchors:\n",
    "        child_hash = dns.dnssec.make_ds('.',dnskey,'SHA256')\n",
    "        if child_hash.to_text() == root_anchor:\n",
    "            return True\n",
    "            break\n",
    "    return False"
   ]
  },
  {
   "cell_type": "code",
   "execution_count": 85,
   "id": "878928cd",
   "metadata": {},
   "outputs": [
    {
     "name": "stdout",
     "output_type": "stream",
     "text": [
      ";;QUESTION SECTION:\n",
      "verisigninc.com     IN    NS\n",
      "\n",
      "\n",
      ";;ANSWER SECTION:\n",
      "verisigninc.com     IN    NS    av2.nstld.com.\n",
      "verisigninc.com     IN    NS    av4.nstld.com.\n",
      "verisigninc.com     IN    NS    av1.nstld.com.\n",
      "verisigninc.com     IN    NS    av3.nstld.com.\n",
      "\n",
      "\n",
      "Query time: 1632340713 sec\n",
      "WHEN: Wed Sep 22 15:58:33 2021\n",
      "MSG SIZE rcvd:  88 \n",
      "\n"
     ]
    },
    {
     "data": {
      "text/plain": [
       "1632340713.5878148"
      ]
     },
     "execution_count": 85,
     "metadata": {},
     "output_type": "execute_result"
    }
   ],
   "source": [
    "main(\"verisigninc.com\",\"NS\")"
   ]
  },
  {
   "cell_type": "code",
   "execution_count": null,
   "id": "19c2cafa",
   "metadata": {},
   "outputs": [],
   "source": []
  },
  {
   "cell_type": "code",
   "execution_count": null,
   "id": "877b5536",
   "metadata": {},
   "outputs": [],
   "source": []
  },
  {
   "cell_type": "code",
   "execution_count": null,
   "id": "d5541c21",
   "metadata": {},
   "outputs": [],
   "source": []
  }
 ],
 "metadata": {
  "kernelspec": {
   "display_name": "Python 3",
   "language": "python",
   "name": "python3"
  },
  "language_info": {
   "codemirror_mode": {
    "name": "ipython",
    "version": 3
   },
   "file_extension": ".py",
   "mimetype": "text/x-python",
   "name": "python",
   "nbconvert_exporter": "python",
   "pygments_lexer": "ipython3",
   "version": "3.8.8"
  }
 },
 "nbformat": 4,
 "nbformat_minor": 5
}
